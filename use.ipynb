{
 "cells": [
  {
   "cell_type": "code",
   "execution_count": 139,
   "id": "91814b76-5f72-4b14-9d45-15a8bba4d2bb",
   "metadata": {},
   "outputs": [],
   "source": [
    "import numpy as np\n",
    "import matplotlib.pyplot as plt\n",
    "import pandas as pd\n",
    "import yfinance as yf\n",
    "import talib as ta\n",
    "from sklearn.preprocessing import MinMaxScaler\n",
    "from keras.models import load_model\n",
    "from sklearn.preprocessing import MinMaxScaler\n",
    "\n",
    "coin_name = \"AAVE\"\n",
    "coin_pair = coin_name + \"-USD\"\n",
    "ticker = yf.Ticker( coin_pair )\n",
    "the_data = ticker.history(period='60d',interval=\"15m\")\n"
   ]
  },
  {
   "cell_type": "code",
   "execution_count": 140,
   "id": "53b2fecd-a8a0-465e-b037-44237e9434eb",
   "metadata": {},
   "outputs": [],
   "source": [
    "# Adding indicators\n",
    "data=the_data.copy()\n",
    "data.columns = data.columns.get_level_values(0)\n",
    "data['RSI_15'] = ta.RSI(data.Close, timeperiod=15)\n",
    "data['RSI_7'] = ta.RSI(data.Close, timeperiod=7)\n",
    "data['EMAF'] = ta.EMA(data.Close, timeperiod=20)\n",
    "data['EMAM'] = ta.EMA(data.Close, timeperiod=100)\n",
    "data['EMAS'] = ta.EMA(data.Close, timeperiod=150)\n",
    "data['ADX'] = ta.ADX(data['High'], data['Low'], data['Close'])"
   ]
  },
  {
   "cell_type": "code",
   "execution_count": 141,
   "id": "0f728f73-aa7b-4067-a1a6-295a1c073b3e",
   "metadata": {},
   "outputs": [],
   "source": [
    "data.dropna(inplace=True)\n",
    "data.reset_index(inplace = True)\n",
    "data.drop(['Datetime','Volume','Dividends','Stock Splits'], axis=1, inplace=True)\n",
    "data = data.loc[:, ['Close','High','Low','Open','RSI_15','RSI_7','EMAF','EMAM','EMAS','ADX']]\n",
    "data_set = data.iloc[:, 0:10]#.values\n",
    "pd.set_option('display.max_columns', None)\n",
    "sc = MinMaxScaler(feature_range=(0,1))\n",
    "data_set_scaled = sc.fit_transform(data_set)"
   ]
  },
  {
   "cell_type": "code",
   "execution_count": 142,
   "id": "ff5b2605-8194-4f66-a17a-791e512fc2fe",
   "metadata": {},
   "outputs": [
    {
     "name": "stdout",
     "output_type": "stream",
     "text": [
      "(30, 10)\n"
     ]
    }
   ],
   "source": [
    "backcandles = 30\n",
    "last_window = data_set_scaled[-backcandles:, :]\n",
    "print( last_window.shape )\n",
    "X_input = np.expand_dims(last_window, axis=0)"
   ]
  },
  {
   "cell_type": "code",
   "execution_count": 143,
   "id": "c8de5c06-d5ab-49a1-a000-6931fa953968",
   "metadata": {},
   "outputs": [],
   "source": [
    "model = load_model('/data/oracle/' + coin_pair + '.keras')"
   ]
  },
  {
   "cell_type": "code",
   "execution_count": 145,
   "id": "eaac57d2-09d6-4b05-a194-d0acc11284d3",
   "metadata": {},
   "outputs": [
    {
     "name": "stdout",
     "output_type": "stream",
     "text": [
      "\u001b[1m1/1\u001b[0m \u001b[32m━━━━━━━━━━━━━━━━━━━━\u001b[0m\u001b[37m\u001b[0m \u001b[1m0s\u001b[0m 16ms/step\n",
      "336.13963099429384\n"
     ]
    }
   ],
   "source": [
    "y_pred = model.predict(X_input)\n",
    "#y_pred_original = sc.inverse_transform(np.concatenate([np.zeros((y_pred.shape[0], data_set_scaled.shape[1] - 1)), y_pred], axis=1))[:, -1]\n",
    "\n",
    "y_pred_adjusted = np.concatenate([y_pred, np.zeros((y_pred.shape[0], data_set_scaled.shape[1] - 1))], axis=1)\n",
    "y_pred_original = sc.inverse_transform(y_pred_adjusted)[:, 0]\n",
    "\n",
    "print(y_pred_original[0])"
   ]
  },
  {
   "cell_type": "code",
   "execution_count": null,
   "id": "21043cec-0aef-4bb0-902a-67ff843631a9",
   "metadata": {},
   "outputs": [],
   "source": []
  }
 ],
 "metadata": {
  "kernelspec": {
   "display_name": "Python 3 (ipykernel)",
   "language": "python",
   "name": "python3"
  },
  "language_info": {
   "codemirror_mode": {
    "name": "ipython",
    "version": 3
   },
   "file_extension": ".py",
   "mimetype": "text/x-python",
   "name": "python",
   "nbconvert_exporter": "python",
   "pygments_lexer": "ipython3",
   "version": "3.11.0rc1"
  }
 },
 "nbformat": 4,
 "nbformat_minor": 5
}
